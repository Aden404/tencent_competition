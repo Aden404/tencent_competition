{
 "cells": [
  {
   "cell_type": "markdown",
   "metadata": {},
   "source": [
    "考虑以下增加特征：\n",
    "\n",
    "1、用户的兴趣id数目，kw数目和topic数目，\n",
    "\n",
    "2、同一条广告向相同用户推送的次数，#此条不需考虑，用户的重复出现次数比较少\n",
    "\n",
    "3、同一个用户收到的推送次数\n",
    "\n",
    "广告特征：\n",
    "\n",
    "1、广告的出现次数,被点击次数，转化率\n",
    "\n",
    "2、广告商家所"
   ]
  },
  {
   "cell_type": "code",
   "execution_count": 246,
   "metadata": {},
   "outputs": [],
   "source": [
    "import numpy as np\n",
    "import pandas as pd\n",
    "import os\n",
    "from scipy import sparse\n",
    "from sklearn.model_selection import StratifiedShuffleSplit\n",
    "from sklearn.ensemble import RandomForestClassifier\n",
    "from sklearn.preprocessing import OneHotEncoder, LabelEncoder\n",
    "from sklearn.feature_extraction.text import CountVectorizer\n",
    "import xgboost as xgb\n",
    "import lightgbm as lgb\n",
    "%matplotlib inline\n",
    "import matplotlib.pyplot as plt"
   ]
  },
  {
   "cell_type": "code",
   "execution_count": 247,
   "metadata": {},
   "outputs": [],
   "source": [
    "data = pd.read_csv('./datasets/train_data.csv')\n",
    "target = pd.read_csv('./datasets/train_target.csv', names=['label'], header=None)\n",
    "\n",
    "data.drop(data.columns[[0]], axis=1, inplace=True)  #删除某列函数\n",
    "target = target.reset_index(drop=True)"
   ]
  },
  {
   "cell_type": "code",
   "execution_count": 248,
   "metadata": {},
   "outputs": [],
   "source": [
    "# data.drop(\"interest3\", axis=1, inplace=True)\n",
    "# data.drop(\"interest4\", axis=1,inplace=True)\n",
    "# data.drop(\"kw3\", axis=1,inplace=True)\n",
    "# data.drop(\"topic3\", axis=1,inplace=True)\n",
    "# data.drop('appIdInstall', axis=1,inplace=True)\n",
    "# data.drop('appIdAction', axis=1,inplace=True)\n",
    "\n",
    "one_hot_feature=['creativeSize', 'LBS','age','carrier','consumptionAbility','education','gender','house','os','ct','marriageStatus','advertiserId','campaignId', 'creativeId',\n",
    "       'adCategoryId', 'productId', 'productType']\n",
    "vector_feature=['appIdAction','appIdInstall','interest1','interest2','interest3','interest4','interest5','kw1','kw2','kw3','topic1','topic2','topic3']\n",
    "\n",
    "for feature in one_hot_feature:\n",
    "    try:\n",
    "        data[feature] = LabelEncoder().fit_transform(data[feature].apply(int))\n",
    "    except:\n",
    "        data[feature] = LabelEncoder().fit_transform(data[feature])"
   ]
  },
  {
   "cell_type": "code",
   "execution_count": 249,
   "metadata": {},
   "outputs": [],
   "source": [
    "interests = data[['interest1', 'interest2', 'interest3', 'interest4', 'interest5']]\n",
    "array = np.array(interests)\n",
    "num_interest = []\n",
    "for i in range(array.shape[0]):\n",
    "    num = 0\n",
    "    inter = array[i]\n",
    "    for j in inter:\n",
    "        inter_lis = j.split(' ')\n",
    "        if inter_lis[0] == '-1':\n",
    "            continue\n",
    "        num += len(inter_lis)\n",
    "    num_interest.append(num)"
   ]
  },
  {
   "cell_type": "code",
   "execution_count": 250,
   "metadata": {},
   "outputs": [
    {
     "data": {
      "text/html": [
       "<div>\n",
       "<style scoped>\n",
       "    .dataframe tbody tr th:only-of-type {\n",
       "        vertical-align: middle;\n",
       "    }\n",
       "\n",
       "    .dataframe tbody tr th {\n",
       "        vertical-align: top;\n",
       "    }\n",
       "\n",
       "    .dataframe thead th {\n",
       "        text-align: right;\n",
       "    }\n",
       "</style>\n",
       "<table border=\"1\" class=\"dataframe\">\n",
       "  <thead>\n",
       "    <tr style=\"text-align: right;\">\n",
       "      <th></th>\n",
       "      <th>num_interests</th>\n",
       "    </tr>\n",
       "  </thead>\n",
       "  <tbody>\n",
       "    <tr>\n",
       "      <th>0</th>\n",
       "      <td>59</td>\n",
       "    </tr>\n",
       "    <tr>\n",
       "      <th>1</th>\n",
       "      <td>28</td>\n",
       "    </tr>\n",
       "    <tr>\n",
       "      <th>2</th>\n",
       "      <td>2</td>\n",
       "    </tr>\n",
       "    <tr>\n",
       "      <th>3</th>\n",
       "      <td>9</td>\n",
       "    </tr>\n",
       "    <tr>\n",
       "      <th>4</th>\n",
       "      <td>60</td>\n",
       "    </tr>\n",
       "  </tbody>\n",
       "</table>\n",
       "</div>"
      ],
      "text/plain": [
       "   num_interests\n",
       "0             59\n",
       "1             28\n",
       "2              2\n",
       "3              9\n",
       "4             60"
      ]
     },
     "execution_count": 250,
     "metadata": {},
     "output_type": "execute_result"
    }
   ],
   "source": [
    "num_interests = pd.DataFrame(num_interest, columns=['num_interests'])\n",
    "num_interests.head()"
   ]
  },
  {
   "cell_type": "code",
   "execution_count": 251,
   "metadata": {},
   "outputs": [],
   "source": [
    "kws = data[['kw1', 'kw2', 'kw3']]\n",
    "array = np.array(kws)\n",
    "num_kw = []\n",
    "for i in range(array.shape[0]):\n",
    "    num = 0\n",
    "    kw = array[i]\n",
    "    for j in kw:\n",
    "        kw_lis = j.split(' ')\n",
    "        if kw_lis[0] == '-1':\n",
    "            continue\n",
    "        num += len(kw_lis)\n",
    "    num_kw.append(num)"
   ]
  },
  {
   "cell_type": "code",
   "execution_count": 252,
   "metadata": {},
   "outputs": [
    {
     "data": {
      "text/html": [
       "<div>\n",
       "<style scoped>\n",
       "    .dataframe tbody tr th:only-of-type {\n",
       "        vertical-align: middle;\n",
       "    }\n",
       "\n",
       "    .dataframe tbody tr th {\n",
       "        vertical-align: top;\n",
       "    }\n",
       "\n",
       "    .dataframe thead th {\n",
       "        text-align: right;\n",
       "    }\n",
       "</style>\n",
       "<table border=\"1\" class=\"dataframe\">\n",
       "  <thead>\n",
       "    <tr style=\"text-align: right;\">\n",
       "      <th></th>\n",
       "      <th>num_kws</th>\n",
       "    </tr>\n",
       "  </thead>\n",
       "  <tbody>\n",
       "    <tr>\n",
       "      <th>0</th>\n",
       "      <td>10</td>\n",
       "    </tr>\n",
       "    <tr>\n",
       "      <th>1</th>\n",
       "      <td>10</td>\n",
       "    </tr>\n",
       "    <tr>\n",
       "      <th>2</th>\n",
       "      <td>9</td>\n",
       "    </tr>\n",
       "    <tr>\n",
       "      <th>3</th>\n",
       "      <td>10</td>\n",
       "    </tr>\n",
       "    <tr>\n",
       "      <th>4</th>\n",
       "      <td>10</td>\n",
       "    </tr>\n",
       "    <tr>\n",
       "      <th>5</th>\n",
       "      <td>5</td>\n",
       "    </tr>\n",
       "  </tbody>\n",
       "</table>\n",
       "</div>"
      ],
      "text/plain": [
       "   num_kws\n",
       "0       10\n",
       "1       10\n",
       "2        9\n",
       "3       10\n",
       "4       10\n",
       "5        5"
      ]
     },
     "execution_count": 252,
     "metadata": {},
     "output_type": "execute_result"
    }
   ],
   "source": [
    "num_kws = pd.DataFrame(num_kw, columns=['num_kws'])\n",
    "num_kws[:6]"
   ]
  },
  {
   "cell_type": "code",
   "execution_count": 253,
   "metadata": {},
   "outputs": [],
   "source": [
    "topics = data[['topic1','topic2','topic3']]\n",
    "array = np.array(topics)\n",
    "num_topic = []\n",
    "for i in range(array.shape[0]):\n",
    "    num = 0\n",
    "    topic = array[i]\n",
    "    for j in topic:\n",
    "        topic_lis = j.split(' ')\n",
    "        if topic_lis[0] == '-1':\n",
    "            continue\n",
    "        num += len(topic_lis)\n",
    "    num_topic.append(num)"
   ]
  },
  {
   "cell_type": "code",
   "execution_count": 254,
   "metadata": {
    "scrolled": true
   },
   "outputs": [
    {
     "data": {
      "text/html": [
       "<div>\n",
       "<style scoped>\n",
       "    .dataframe tbody tr th:only-of-type {\n",
       "        vertical-align: middle;\n",
       "    }\n",
       "\n",
       "    .dataframe tbody tr th {\n",
       "        vertical-align: top;\n",
       "    }\n",
       "\n",
       "    .dataframe thead th {\n",
       "        text-align: right;\n",
       "    }\n",
       "</style>\n",
       "<table border=\"1\" class=\"dataframe\">\n",
       "  <thead>\n",
       "    <tr style=\"text-align: right;\">\n",
       "      <th></th>\n",
       "      <th>num_topics</th>\n",
       "    </tr>\n",
       "  </thead>\n",
       "  <tbody>\n",
       "    <tr>\n",
       "      <th>0</th>\n",
       "      <td>10</td>\n",
       "    </tr>\n",
       "    <tr>\n",
       "      <th>1</th>\n",
       "      <td>10</td>\n",
       "    </tr>\n",
       "    <tr>\n",
       "      <th>2</th>\n",
       "      <td>5</td>\n",
       "    </tr>\n",
       "    <tr>\n",
       "      <th>3</th>\n",
       "      <td>10</td>\n",
       "    </tr>\n",
       "    <tr>\n",
       "      <th>4</th>\n",
       "      <td>10</td>\n",
       "    </tr>\n",
       "  </tbody>\n",
       "</table>\n",
       "</div>"
      ],
      "text/plain": [
       "   num_topics\n",
       "0          10\n",
       "1          10\n",
       "2           5\n",
       "3          10\n",
       "4          10"
      ]
     },
     "execution_count": 254,
     "metadata": {},
     "output_type": "execute_result"
    }
   ],
   "source": [
    "num_topics = pd.DataFrame(num_topic, columns=['num_topics'])\n",
    "num_topics.head()"
   ]
  },
  {
   "cell_type": "code",
   "execution_count": 255,
   "metadata": {},
   "outputs": [],
   "source": [
    "num_ad = data['aid'].value_counts()"
   ]
  },
  {
   "cell_type": "code",
   "execution_count": 256,
   "metadata": {},
   "outputs": [],
   "source": [
    "aid = num_ad.index.values\n",
    "values = num_ad.values"
   ]
  },
  {
   "cell_type": "code",
   "execution_count": 257,
   "metadata": {},
   "outputs": [],
   "source": [
    "num_ads = pd.DataFrame({\n",
    "    'aid' : aid,\n",
    "    'num_ads' : values\n",
    "})"
   ]
  },
  {
   "cell_type": "code",
   "execution_count": 258,
   "metadata": {},
   "outputs": [],
   "source": [
    "data_with_num = pd.concat([data, num_interests, num_kws, num_topics], axis=1)"
   ]
  },
  {
   "cell_type": "code",
   "execution_count": 259,
   "metadata": {},
   "outputs": [],
   "source": [
    "data_with_num = pd.merge(data_with_num, num_ads, on=['aid'], how='left')"
   ]
  },
  {
   "cell_type": "code",
   "execution_count": 260,
   "metadata": {
    "scrolled": false
   },
   "outputs": [
    {
     "data": {
      "text/html": [
       "<div>\n",
       "<style scoped>\n",
       "    .dataframe tbody tr th:only-of-type {\n",
       "        vertical-align: middle;\n",
       "    }\n",
       "\n",
       "    .dataframe tbody tr th {\n",
       "        vertical-align: top;\n",
       "    }\n",
       "\n",
       "    .dataframe thead th {\n",
       "        text-align: right;\n",
       "    }\n",
       "</style>\n",
       "<table border=\"1\" class=\"dataframe\">\n",
       "  <thead>\n",
       "    <tr style=\"text-align: right;\">\n",
       "      <th></th>\n",
       "      <th>aid</th>\n",
       "      <th>uid</th>\n",
       "      <th>advertiserId</th>\n",
       "      <th>campaignId</th>\n",
       "      <th>creativeId</th>\n",
       "      <th>creativeSize</th>\n",
       "      <th>adCategoryId</th>\n",
       "      <th>productId</th>\n",
       "      <th>productType</th>\n",
       "      <th>LBS</th>\n",
       "      <th>...</th>\n",
       "      <th>kw3</th>\n",
       "      <th>marriageStatus</th>\n",
       "      <th>os</th>\n",
       "      <th>topic1</th>\n",
       "      <th>topic2</th>\n",
       "      <th>topic3</th>\n",
       "      <th>num_interests</th>\n",
       "      <th>num_kws</th>\n",
       "      <th>num_topics</th>\n",
       "      <th>num_ads</th>\n",
       "    </tr>\n",
       "  </thead>\n",
       "  <tbody>\n",
       "    <tr>\n",
       "      <th>0</th>\n",
       "      <td>1966</td>\n",
       "      <td>45527592</td>\n",
       "      <td>22</td>\n",
       "      <td>80</td>\n",
       "      <td>102</td>\n",
       "      <td>2</td>\n",
       "      <td>10</td>\n",
       "      <td>3</td>\n",
       "      <td>2</td>\n",
       "      <td>451</td>\n",
       "      <td>...</td>\n",
       "      <td>-1</td>\n",
       "      <td>2</td>\n",
       "      <td>1</td>\n",
       "      <td>1794 722 8648 9826 523</td>\n",
       "      <td>9171 755 2392 2209 661</td>\n",
       "      <td>-1</td>\n",
       "      <td>59</td>\n",
       "      <td>10</td>\n",
       "      <td>10</td>\n",
       "      <td>1092</td>\n",
       "    </tr>\n",
       "    <tr>\n",
       "      <th>1</th>\n",
       "      <td>1407</td>\n",
       "      <td>38540916</td>\n",
       "      <td>9</td>\n",
       "      <td>14</td>\n",
       "      <td>84</td>\n",
       "      <td>13</td>\n",
       "      <td>4</td>\n",
       "      <td>14</td>\n",
       "      <td>3</td>\n",
       "      <td>205</td>\n",
       "      <td>...</td>\n",
       "      <td>-1</td>\n",
       "      <td>1</td>\n",
       "      <td>1</td>\n",
       "      <td>7262 644 5670 6939 3162</td>\n",
       "      <td>4429 598 3104 9047 8193</td>\n",
       "      <td>-1</td>\n",
       "      <td>28</td>\n",
       "      <td>10</td>\n",
       "      <td>10</td>\n",
       "      <td>11864</td>\n",
       "    </tr>\n",
       "    <tr>\n",
       "      <th>2</th>\n",
       "      <td>1566</td>\n",
       "      <td>27200155</td>\n",
       "      <td>26</td>\n",
       "      <td>109</td>\n",
       "      <td>44</td>\n",
       "      <td>5</td>\n",
       "      <td>8</td>\n",
       "      <td>11</td>\n",
       "      <td>3</td>\n",
       "      <td>367</td>\n",
       "      <td>...</td>\n",
       "      <td>-1</td>\n",
       "      <td>1</td>\n",
       "      <td>0</td>\n",
       "      <td>9375 2070 8133 2264 5625</td>\n",
       "      <td>-1</td>\n",
       "      <td>-1</td>\n",
       "      <td>2</td>\n",
       "      <td>9</td>\n",
       "      <td>5</td>\n",
       "      <td>21132</td>\n",
       "    </tr>\n",
       "    <tr>\n",
       "      <th>3</th>\n",
       "      <td>2048</td>\n",
       "      <td>38793319</td>\n",
       "      <td>31</td>\n",
       "      <td>33</td>\n",
       "      <td>24</td>\n",
       "      <td>5</td>\n",
       "      <td>32</td>\n",
       "      <td>0</td>\n",
       "      <td>1</td>\n",
       "      <td>250</td>\n",
       "      <td>...</td>\n",
       "      <td>-1</td>\n",
       "      <td>1</td>\n",
       "      <td>0</td>\n",
       "      <td>5725 8980 2748 6626 3110</td>\n",
       "      <td>8833 5732 2091 3717 5216</td>\n",
       "      <td>-1</td>\n",
       "      <td>9</td>\n",
       "      <td>10</td>\n",
       "      <td>10</td>\n",
       "      <td>3102</td>\n",
       "    </tr>\n",
       "    <tr>\n",
       "      <th>4</th>\n",
       "      <td>117</td>\n",
       "      <td>60756767</td>\n",
       "      <td>9</td>\n",
       "      <td>21</td>\n",
       "      <td>51</td>\n",
       "      <td>4</td>\n",
       "      <td>8</td>\n",
       "      <td>17</td>\n",
       "      <td>3</td>\n",
       "      <td>227</td>\n",
       "      <td>...</td>\n",
       "      <td>-1</td>\n",
       "      <td>2</td>\n",
       "      <td>1</td>\n",
       "      <td>6939 7895 644 5297 4149</td>\n",
       "      <td>5115 969 5835 6850 417</td>\n",
       "      <td>-1</td>\n",
       "      <td>60</td>\n",
       "      <td>10</td>\n",
       "      <td>10</td>\n",
       "      <td>12785</td>\n",
       "    </tr>\n",
       "  </tbody>\n",
       "</table>\n",
       "<p>5 rows × 36 columns</p>\n",
       "</div>"
      ],
      "text/plain": [
       "    aid       uid  advertiserId  campaignId  creativeId  creativeSize  \\\n",
       "0  1966  45527592            22          80         102             2   \n",
       "1  1407  38540916             9          14          84            13   \n",
       "2  1566  27200155            26         109          44             5   \n",
       "3  2048  38793319            31          33          24             5   \n",
       "4   117  60756767             9          21          51             4   \n",
       "\n",
       "   adCategoryId  productId  productType  LBS   ...    kw3 marriageStatus os  \\\n",
       "0            10          3            2  451   ...     -1              2  1   \n",
       "1             4         14            3  205   ...     -1              1  1   \n",
       "2             8         11            3  367   ...     -1              1  0   \n",
       "3            32          0            1  250   ...     -1              1  0   \n",
       "4             8         17            3  227   ...     -1              2  1   \n",
       "\n",
       "                     topic1                    topic2  topic3  num_interests  \\\n",
       "0    1794 722 8648 9826 523    9171 755 2392 2209 661      -1             59   \n",
       "1   7262 644 5670 6939 3162   4429 598 3104 9047 8193      -1             28   \n",
       "2  9375 2070 8133 2264 5625                        -1      -1              2   \n",
       "3  5725 8980 2748 6626 3110  8833 5732 2091 3717 5216      -1              9   \n",
       "4   6939 7895 644 5297 4149    5115 969 5835 6850 417      -1             60   \n",
       "\n",
       "   num_kws  num_topics num_ads  \n",
       "0       10          10    1092  \n",
       "1       10          10   11864  \n",
       "2        9           5   21132  \n",
       "3       10          10    3102  \n",
       "4       10          10   12785  \n",
       "\n",
       "[5 rows x 36 columns]"
      ]
     },
     "execution_count": 260,
     "metadata": {},
     "output_type": "execute_result"
    }
   ],
   "source": [
    "data_with_num.head()"
   ]
  },
  {
   "cell_type": "code",
   "execution_count": 175,
   "metadata": {
    "collapsed": true
   },
   "outputs": [
    {
     "data": {
      "text/plain": [
       "10    651006\n",
       "5      77534\n",
       "15     34194\n",
       "9      32490\n",
       "8      18008\n",
       "6      17850\n",
       "7      17368\n",
       "0      13966\n",
       "4       3859\n",
       "3       3337\n",
       "2       3149\n",
       "1       3032\n",
       "14      1832\n",
       "13       853\n",
       "11       718\n",
       "12       686\n",
       "Name: num_kws, dtype: int64"
      ]
     },
     "execution_count": 175,
     "metadata": {},
     "output_type": "execute_result"
    }
   ],
   "source": [
    "data_with_num['num_kws'].value_counts()"
   ]
  },
  {
   "cell_type": "code",
   "execution_count": 176,
   "metadata": {
    "collapsed": true
   },
   "outputs": [
    {
     "data": {
      "text/plain": [
       "10    748378\n",
       "5      78091\n",
       "15     38659\n",
       "0      13495\n",
       "9        618\n",
       "8        245\n",
       "14       125\n",
       "7         87\n",
       "4         79\n",
       "6         28\n",
       "3         26\n",
       "13        25\n",
       "2         11\n",
       "1          8\n",
       "12         5\n",
       "11         2\n",
       "Name: num_topics, dtype: int64"
      ]
     },
     "execution_count": 176,
     "metadata": {},
     "output_type": "execute_result"
    }
   ],
   "source": [
    "data_with_num['num_topics'].value_counts()"
   ]
  },
  {
   "cell_type": "code",
   "execution_count": 265,
   "metadata": {},
   "outputs": [],
   "source": [
    "data_combined = pd.concat([data_with_num, target], axis=1, join_axes=[data_with_num.index])\n",
    "data_clicked = data_combined[data_combined['label']==1]"
   ]
  },
  {
   "cell_type": "code",
   "execution_count": 285,
   "metadata": {
    "scrolled": true
   },
   "outputs": [
    {
     "name": "stderr",
     "output_type": "stream",
     "text": [
      "D:\\Anaconda3\\lib\\site-packages\\ipykernel_launcher.py:1: FutureWarning: by argument to sort_index is deprecated, please use .sort_values(by=...)\n",
      "  \"\"\"Entry point for launching an IPython kernel.\n"
     ]
    },
    {
     "data": {
      "text/plain": [
       "(173, 2)"
      ]
     },
     "execution_count": 285,
     "metadata": {},
     "output_type": "execute_result"
    }
   ],
   "source": [
    "num_ads2 = num_ads.sort_index(by='aid')\n",
    "sort_values = num_ads2.values"
   ]
  },
  {
   "cell_type": "code",
   "execution_count": 283,
   "metadata": {
    "scrolled": true
   },
   "outputs": [],
   "source": [
    "num_ad_clicked = num_ad = data_clicked['aid'].value_counts()\n",
    "num_ad_clicked2 = num_ad_clicked.sort_index()"
   ]
  },
  {
   "cell_type": "code",
   "execution_count": 298,
   "metadata": {},
   "outputs": [],
   "source": [
    "click_values = num_ad_clicked2.values\n",
    "ratio = click_values / sort_values[:, 1]"
   ]
  },
  {
   "cell_type": "code",
   "execution_count": 304,
   "metadata": {},
   "outputs": [],
   "source": [
    "ratio_clicked = pd.DataFrame({\n",
    "    'aid': num_ad_clicked2.index,\n",
    "    'ratio_clicked' : ratio\n",
    "})"
   ]
  },
  {
   "cell_type": "code",
   "execution_count": 306,
   "metadata": {},
   "outputs": [],
   "source": [
    "data_with_num = pd.merge(data_with_num, ratio_clicked, on=['aid'], how='left')"
   ]
  },
  {
   "cell_type": "code",
   "execution_count": 308,
   "metadata": {},
   "outputs": [],
   "source": [
    "data_combined = pd.concat([data_with_num, target], axis=1, join_axes=[data_with_num.index])\n",
    "data_clicked = data_combined[data_combined['label']==1]"
   ]
  },
  {
   "cell_type": "code",
   "execution_count": 339,
   "metadata": {},
   "outputs": [],
   "source": [
    "num_user_getad = data['uid'].value_counts()"
   ]
  },
  {
   "cell_type": "code",
   "execution_count": 342,
   "metadata": {},
   "outputs": [],
   "source": [
    "num_user_clicked = data_clicked['uid'].value_counts()"
   ]
  },
  {
   "cell_type": "code",
   "execution_count": null,
   "metadata": {},
   "outputs": [],
   "source": []
  }
 ],
 "metadata": {
  "kernelspec": {
   "display_name": "Python 3",
   "language": "python",
   "name": "python3"
  },
  "language_info": {
   "codemirror_mode": {
    "name": "ipython",
    "version": 3
   },
   "file_extension": ".py",
   "mimetype": "text/x-python",
   "name": "python",
   "nbconvert_exporter": "python",
   "pygments_lexer": "ipython3",
   "version": "3.6.4"
  }
 },
 "nbformat": 4,
 "nbformat_minor": 2
}

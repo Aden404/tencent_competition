{
 "cells": [
  {
   "cell_type": "code",
   "execution_count": 2,
   "metadata": {},
   "outputs": [],
   "source": [
    "import pandas as pd\n",
    "%matplotlib inline\n",
    "import matplotlib.pyplot as plt\n",
    "import seaborn as sns\n",
    "sns.set(style=\"white\",color_codes=True)    "
   ]
  },
  {
   "cell_type": "markdown",
   "metadata": {},
   "source": [
    "### 读取广告特征和提取出的训练数据和标签"
   ]
  },
  {
   "cell_type": "code",
   "execution_count": 3,
   "metadata": {},
   "outputs": [],
   "source": [
    "ad_features = pd.read_csv(\"./datasets/adFeature.csv\")\n",
    "X = pd.read_csv(\"./datasets/train_data.csv\")"
   ]
  },
  {
   "cell_type": "code",
   "execution_count": 4,
   "metadata": {},
   "outputs": [
    {
     "data": {
      "text/html": [
       "<div>\n",
       "<style scoped>\n",
       "    .dataframe tbody tr th:only-of-type {\n",
       "        vertical-align: middle;\n",
       "    }\n",
       "\n",
       "    .dataframe tbody tr th {\n",
       "        vertical-align: top;\n",
       "    }\n",
       "\n",
       "    .dataframe thead th {\n",
       "        text-align: right;\n",
       "    }\n",
       "</style>\n",
       "<table border=\"1\" class=\"dataframe\">\n",
       "  <thead>\n",
       "    <tr style=\"text-align: right;\">\n",
       "      <th></th>\n",
       "      <th>Unnamed: 0</th>\n",
       "      <th>aid</th>\n",
       "      <th>uid</th>\n",
       "      <th>advertiserId</th>\n",
       "      <th>campaignId</th>\n",
       "      <th>creativeId</th>\n",
       "      <th>creativeSize</th>\n",
       "      <th>adCategoryId</th>\n",
       "      <th>productId</th>\n",
       "      <th>productType</th>\n",
       "      <th>...</th>\n",
       "      <th>interest4</th>\n",
       "      <th>interest5</th>\n",
       "      <th>kw1</th>\n",
       "      <th>kw2</th>\n",
       "      <th>kw3</th>\n",
       "      <th>marriageStatus</th>\n",
       "      <th>os</th>\n",
       "      <th>topic1</th>\n",
       "      <th>topic2</th>\n",
       "      <th>topic3</th>\n",
       "    </tr>\n",
       "  </thead>\n",
       "  <tbody>\n",
       "    <tr>\n",
       "      <th>0</th>\n",
       "      <td>10151</td>\n",
       "      <td>1966</td>\n",
       "      <td>45527592</td>\n",
       "      <td>5552</td>\n",
       "      <td>158101</td>\n",
       "      <td>1116089</td>\n",
       "      <td>35</td>\n",
       "      <td>27</td>\n",
       "      <td>113</td>\n",
       "      <td>9</td>\n",
       "      <td>...</td>\n",
       "      <td>-1</td>\n",
       "      <td>100 72 80 92 71 109 8 50 86 28 6 76 20 46 21 1...</td>\n",
       "      <td>779963 342753 545452 194319 627369</td>\n",
       "      <td>32361 56505 79676 117357 33961</td>\n",
       "      <td>-1</td>\n",
       "      <td>11</td>\n",
       "      <td>1</td>\n",
       "      <td>1794 722 8648 9826 523</td>\n",
       "      <td>9171 755 2392 2209 661</td>\n",
       "      <td>-1</td>\n",
       "    </tr>\n",
       "    <tr>\n",
       "      <th>1</th>\n",
       "      <td>2275273</td>\n",
       "      <td>1407</td>\n",
       "      <td>38540916</td>\n",
       "      <td>702</td>\n",
       "      <td>12724</td>\n",
       "      <td>962151</td>\n",
       "      <td>105</td>\n",
       "      <td>10</td>\n",
       "      <td>4669</td>\n",
       "      <td>11</td>\n",
       "      <td>...</td>\n",
       "      <td>-1</td>\n",
       "      <td>80 92 131 78 8 30 115 6 42 46 59 36 64 129</td>\n",
       "      <td>223415 275159 411962 680328 391535</td>\n",
       "      <td>84508 66348 117586 38622 61483</td>\n",
       "      <td>-1</td>\n",
       "      <td>10</td>\n",
       "      <td>1</td>\n",
       "      <td>7262 644 5670 6939 3162</td>\n",
       "      <td>4429 598 3104 9047 8193</td>\n",
       "      <td>-1</td>\n",
       "    </tr>\n",
       "    <tr>\n",
       "      <th>2</th>\n",
       "      <td>5015322</td>\n",
       "      <td>1566</td>\n",
       "      <td>27200155</td>\n",
       "      <td>6946</td>\n",
       "      <td>296367</td>\n",
       "      <td>520004</td>\n",
       "      <td>59</td>\n",
       "      <td>24</td>\n",
       "      <td>3794</td>\n",
       "      <td>11</td>\n",
       "      <td>...</td>\n",
       "      <td>-1</td>\n",
       "      <td>-1</td>\n",
       "      <td>27326 580549 189366 100680</td>\n",
       "      <td>32981 95979 45119 108417 48892</td>\n",
       "      <td>-1</td>\n",
       "      <td>10</td>\n",
       "      <td>0</td>\n",
       "      <td>9375 2070 8133 2264 5625</td>\n",
       "      <td>-1</td>\n",
       "      <td>-1</td>\n",
       "    </tr>\n",
       "    <tr>\n",
       "      <th>3</th>\n",
       "      <td>5020944</td>\n",
       "      <td>2048</td>\n",
       "      <td>38793319</td>\n",
       "      <td>8203</td>\n",
       "      <td>37818</td>\n",
       "      <td>240336</td>\n",
       "      <td>59</td>\n",
       "      <td>142</td>\n",
       "      <td>0</td>\n",
       "      <td>6</td>\n",
       "      <td>...</td>\n",
       "      <td>-1</td>\n",
       "      <td>-1</td>\n",
       "      <td>315951 755173 555994 274523 225925</td>\n",
       "      <td>117462 55952 76242 103994 42733</td>\n",
       "      <td>-1</td>\n",
       "      <td>10</td>\n",
       "      <td>0</td>\n",
       "      <td>5725 8980 2748 6626 3110</td>\n",
       "      <td>8833 5732 2091 3717 5216</td>\n",
       "      <td>-1</td>\n",
       "    </tr>\n",
       "    <tr>\n",
       "      <th>4</th>\n",
       "      <td>4918461</td>\n",
       "      <td>117</td>\n",
       "      <td>60756767</td>\n",
       "      <td>702</td>\n",
       "      <td>18552</td>\n",
       "      <td>619519</td>\n",
       "      <td>53</td>\n",
       "      <td>24</td>\n",
       "      <td>5615</td>\n",
       "      <td>11</td>\n",
       "      <td>...</td>\n",
       "      <td>-1</td>\n",
       "      <td>100 72 92 131 37 116 78 4 79 8 30 28 6 39 75 8...</td>\n",
       "      <td>361407 471398 118076 338851 619562</td>\n",
       "      <td>93916 8546 36764 766 18185</td>\n",
       "      <td>-1</td>\n",
       "      <td>11</td>\n",
       "      <td>1</td>\n",
       "      <td>6939 7895 644 5297 4149</td>\n",
       "      <td>5115 969 5835 6850 417</td>\n",
       "      <td>-1</td>\n",
       "    </tr>\n",
       "  </tbody>\n",
       "</table>\n",
       "<p>5 rows × 33 columns</p>\n",
       "</div>"
      ],
      "text/plain": [
       "   Unnamed: 0   aid       uid  advertiserId  campaignId  creativeId  \\\n",
       "0       10151  1966  45527592          5552      158101     1116089   \n",
       "1     2275273  1407  38540916           702       12724      962151   \n",
       "2     5015322  1566  27200155          6946      296367      520004   \n",
       "3     5020944  2048  38793319          8203       37818      240336   \n",
       "4     4918461   117  60756767           702       18552      619519   \n",
       "\n",
       "   creativeSize  adCategoryId  productId  productType   ...    interest4  \\\n",
       "0            35            27        113            9   ...           -1   \n",
       "1           105            10       4669           11   ...           -1   \n",
       "2            59            24       3794           11   ...           -1   \n",
       "3            59           142          0            6   ...           -1   \n",
       "4            53            24       5615           11   ...           -1   \n",
       "\n",
       "                                           interest5  \\\n",
       "0  100 72 80 92 71 109 8 50 86 28 6 76 20 46 21 1...   \n",
       "1         80 92 131 78 8 30 115 6 42 46 59 36 64 129   \n",
       "2                                                 -1   \n",
       "3                                                 -1   \n",
       "4  100 72 92 131 37 116 78 4 79 8 30 28 6 39 75 8...   \n",
       "\n",
       "                                  kw1                              kw2  kw3  \\\n",
       "0  779963 342753 545452 194319 627369   32361 56505 79676 117357 33961   -1   \n",
       "1  223415 275159 411962 680328 391535   84508 66348 117586 38622 61483   -1   \n",
       "2          27326 580549 189366 100680   32981 95979 45119 108417 48892   -1   \n",
       "3  315951 755173 555994 274523 225925  117462 55952 76242 103994 42733   -1   \n",
       "4  361407 471398 118076 338851 619562       93916 8546 36764 766 18185   -1   \n",
       "\n",
       "   marriageStatus os                    topic1                    topic2  \\\n",
       "0              11  1    1794 722 8648 9826 523    9171 755 2392 2209 661   \n",
       "1              10  1   7262 644 5670 6939 3162   4429 598 3104 9047 8193   \n",
       "2              10  0  9375 2070 8133 2264 5625                        -1   \n",
       "3              10  0  5725 8980 2748 6626 3110  8833 5732 2091 3717 5216   \n",
       "4              11  1   6939 7895 644 5297 4149    5115 969 5835 6850 417   \n",
       "\n",
       "   topic3  \n",
       "0      -1  \n",
       "1      -1  \n",
       "2      -1  \n",
       "3      -1  \n",
       "4      -1  \n",
       "\n",
       "[5 rows x 33 columns]"
      ]
     },
     "execution_count": 4,
     "metadata": {},
     "output_type": "execute_result"
    }
   ],
   "source": [
    "X.head()"
   ]
  },
  {
   "cell_type": "markdown",
   "metadata": {},
   "source": [
    "### 提取数据执行函数to_csv时忘了加入index=False, 导致第一列出现Unnamed要去除"
   ]
  },
  {
   "cell_type": "code",
   "execution_count": 5,
   "metadata": {},
   "outputs": [],
   "source": [
    "X.drop(X.columns[[0]], axis=1, inplace=True)  #删除某列函数"
   ]
  },
  {
   "cell_type": "code",
   "execution_count": 6,
   "metadata": {
    "scrolled": true
   },
   "outputs": [
    {
     "data": {
      "text/html": [
       "<div>\n",
       "<style scoped>\n",
       "    .dataframe tbody tr th:only-of-type {\n",
       "        vertical-align: middle;\n",
       "    }\n",
       "\n",
       "    .dataframe tbody tr th {\n",
       "        vertical-align: top;\n",
       "    }\n",
       "\n",
       "    .dataframe thead th {\n",
       "        text-align: right;\n",
       "    }\n",
       "</style>\n",
       "<table border=\"1\" class=\"dataframe\">\n",
       "  <thead>\n",
       "    <tr style=\"text-align: right;\">\n",
       "      <th></th>\n",
       "      <th>aid</th>\n",
       "      <th>uid</th>\n",
       "      <th>advertiserId</th>\n",
       "      <th>campaignId</th>\n",
       "      <th>creativeId</th>\n",
       "      <th>creativeSize</th>\n",
       "      <th>adCategoryId</th>\n",
       "      <th>productId</th>\n",
       "      <th>productType</th>\n",
       "      <th>LBS</th>\n",
       "      <th>...</th>\n",
       "      <th>interest4</th>\n",
       "      <th>interest5</th>\n",
       "      <th>kw1</th>\n",
       "      <th>kw2</th>\n",
       "      <th>kw3</th>\n",
       "      <th>marriageStatus</th>\n",
       "      <th>os</th>\n",
       "      <th>topic1</th>\n",
       "      <th>topic2</th>\n",
       "      <th>topic3</th>\n",
       "    </tr>\n",
       "  </thead>\n",
       "  <tbody>\n",
       "    <tr>\n",
       "      <th>0</th>\n",
       "      <td>1966</td>\n",
       "      <td>45527592</td>\n",
       "      <td>5552</td>\n",
       "      <td>158101</td>\n",
       "      <td>1116089</td>\n",
       "      <td>35</td>\n",
       "      <td>27</td>\n",
       "      <td>113</td>\n",
       "      <td>9</td>\n",
       "      <td>711.0</td>\n",
       "      <td>...</td>\n",
       "      <td>-1</td>\n",
       "      <td>100 72 80 92 71 109 8 50 86 28 6 76 20 46 21 1...</td>\n",
       "      <td>779963 342753 545452 194319 627369</td>\n",
       "      <td>32361 56505 79676 117357 33961</td>\n",
       "      <td>-1</td>\n",
       "      <td>11</td>\n",
       "      <td>1</td>\n",
       "      <td>1794 722 8648 9826 523</td>\n",
       "      <td>9171 755 2392 2209 661</td>\n",
       "      <td>-1</td>\n",
       "    </tr>\n",
       "    <tr>\n",
       "      <th>1</th>\n",
       "      <td>1407</td>\n",
       "      <td>38540916</td>\n",
       "      <td>702</td>\n",
       "      <td>12724</td>\n",
       "      <td>962151</td>\n",
       "      <td>105</td>\n",
       "      <td>10</td>\n",
       "      <td>4669</td>\n",
       "      <td>11</td>\n",
       "      <td>325.0</td>\n",
       "      <td>...</td>\n",
       "      <td>-1</td>\n",
       "      <td>80 92 131 78 8 30 115 6 42 46 59 36 64 129</td>\n",
       "      <td>223415 275159 411962 680328 391535</td>\n",
       "      <td>84508 66348 117586 38622 61483</td>\n",
       "      <td>-1</td>\n",
       "      <td>10</td>\n",
       "      <td>1</td>\n",
       "      <td>7262 644 5670 6939 3162</td>\n",
       "      <td>4429 598 3104 9047 8193</td>\n",
       "      <td>-1</td>\n",
       "    </tr>\n",
       "    <tr>\n",
       "      <th>2</th>\n",
       "      <td>1566</td>\n",
       "      <td>27200155</td>\n",
       "      <td>6946</td>\n",
       "      <td>296367</td>\n",
       "      <td>520004</td>\n",
       "      <td>59</td>\n",
       "      <td>24</td>\n",
       "      <td>3794</td>\n",
       "      <td>11</td>\n",
       "      <td>585.0</td>\n",
       "      <td>...</td>\n",
       "      <td>-1</td>\n",
       "      <td>-1</td>\n",
       "      <td>27326 580549 189366 100680</td>\n",
       "      <td>32981 95979 45119 108417 48892</td>\n",
       "      <td>-1</td>\n",
       "      <td>10</td>\n",
       "      <td>0</td>\n",
       "      <td>9375 2070 8133 2264 5625</td>\n",
       "      <td>-1</td>\n",
       "      <td>-1</td>\n",
       "    </tr>\n",
       "    <tr>\n",
       "      <th>3</th>\n",
       "      <td>2048</td>\n",
       "      <td>38793319</td>\n",
       "      <td>8203</td>\n",
       "      <td>37818</td>\n",
       "      <td>240336</td>\n",
       "      <td>59</td>\n",
       "      <td>142</td>\n",
       "      <td>0</td>\n",
       "      <td>6</td>\n",
       "      <td>395.0</td>\n",
       "      <td>...</td>\n",
       "      <td>-1</td>\n",
       "      <td>-1</td>\n",
       "      <td>315951 755173 555994 274523 225925</td>\n",
       "      <td>117462 55952 76242 103994 42733</td>\n",
       "      <td>-1</td>\n",
       "      <td>10</td>\n",
       "      <td>0</td>\n",
       "      <td>5725 8980 2748 6626 3110</td>\n",
       "      <td>8833 5732 2091 3717 5216</td>\n",
       "      <td>-1</td>\n",
       "    </tr>\n",
       "    <tr>\n",
       "      <th>4</th>\n",
       "      <td>117</td>\n",
       "      <td>60756767</td>\n",
       "      <td>702</td>\n",
       "      <td>18552</td>\n",
       "      <td>619519</td>\n",
       "      <td>53</td>\n",
       "      <td>24</td>\n",
       "      <td>5615</td>\n",
       "      <td>11</td>\n",
       "      <td>358.0</td>\n",
       "      <td>...</td>\n",
       "      <td>-1</td>\n",
       "      <td>100 72 92 131 37 116 78 4 79 8 30 28 6 39 75 8...</td>\n",
       "      <td>361407 471398 118076 338851 619562</td>\n",
       "      <td>93916 8546 36764 766 18185</td>\n",
       "      <td>-1</td>\n",
       "      <td>11</td>\n",
       "      <td>1</td>\n",
       "      <td>6939 7895 644 5297 4149</td>\n",
       "      <td>5115 969 5835 6850 417</td>\n",
       "      <td>-1</td>\n",
       "    </tr>\n",
       "  </tbody>\n",
       "</table>\n",
       "<p>5 rows × 32 columns</p>\n",
       "</div>"
      ],
      "text/plain": [
       "    aid       uid  advertiserId  campaignId  creativeId  creativeSize  \\\n",
       "0  1966  45527592          5552      158101     1116089            35   \n",
       "1  1407  38540916           702       12724      962151           105   \n",
       "2  1566  27200155          6946      296367      520004            59   \n",
       "3  2048  38793319          8203       37818      240336            59   \n",
       "4   117  60756767           702       18552      619519            53   \n",
       "\n",
       "   adCategoryId  productId  productType    LBS  ...    interest4  \\\n",
       "0            27        113            9  711.0  ...           -1   \n",
       "1            10       4669           11  325.0  ...           -1   \n",
       "2            24       3794           11  585.0  ...           -1   \n",
       "3           142          0            6  395.0  ...           -1   \n",
       "4            24       5615           11  358.0  ...           -1   \n",
       "\n",
       "                                           interest5  \\\n",
       "0  100 72 80 92 71 109 8 50 86 28 6 76 20 46 21 1...   \n",
       "1         80 92 131 78 8 30 115 6 42 46 59 36 64 129   \n",
       "2                                                 -1   \n",
       "3                                                 -1   \n",
       "4  100 72 92 131 37 116 78 4 79 8 30 28 6 39 75 8...   \n",
       "\n",
       "                                  kw1                              kw2  kw3  \\\n",
       "0  779963 342753 545452 194319 627369   32361 56505 79676 117357 33961   -1   \n",
       "1  223415 275159 411962 680328 391535   84508 66348 117586 38622 61483   -1   \n",
       "2          27326 580549 189366 100680   32981 95979 45119 108417 48892   -1   \n",
       "3  315951 755173 555994 274523 225925  117462 55952 76242 103994 42733   -1   \n",
       "4  361407 471398 118076 338851 619562       93916 8546 36764 766 18185   -1   \n",
       "\n",
       "  marriageStatus  os                    topic1                    topic2  \\\n",
       "0             11   1    1794 722 8648 9826 523    9171 755 2392 2209 661   \n",
       "1             10   1   7262 644 5670 6939 3162   4429 598 3104 9047 8193   \n",
       "2             10   0  9375 2070 8133 2264 5625                        -1   \n",
       "3             10   0  5725 8980 2748 6626 3110  8833 5732 2091 3717 5216   \n",
       "4             11   1   6939 7895 644 5297 4149    5115 969 5835 6850 417   \n",
       "\n",
       "  topic3  \n",
       "0     -1  \n",
       "1     -1  \n",
       "2     -1  \n",
       "3     -1  \n",
       "4     -1  \n",
       "\n",
       "[5 rows x 32 columns]"
      ]
     },
     "execution_count": 6,
     "metadata": {},
     "output_type": "execute_result"
    }
   ],
   "source": [
    "X.head()"
   ]
  },
  {
   "cell_type": "markdown",
   "metadata": {},
   "source": [
    "### 对label也要做同样处理"
   ]
  },
  {
   "cell_type": "code",
   "execution_count": 7,
   "metadata": {
    "scrolled": true
   },
   "outputs": [],
   "source": [
    "y = pd.read_csv(\"./datasets/train_target.csv\", names=['label'], header=None)\n",
    "y = y.reset_index(drop=True)"
   ]
  },
  {
   "cell_type": "code",
   "execution_count": 8,
   "metadata": {},
   "outputs": [
    {
     "data": {
      "text/html": [
       "<div>\n",
       "<style scoped>\n",
       "    .dataframe tbody tr th:only-of-type {\n",
       "        vertical-align: middle;\n",
       "    }\n",
       "\n",
       "    .dataframe tbody tr th {\n",
       "        vertical-align: top;\n",
       "    }\n",
       "\n",
       "    .dataframe thead th {\n",
       "        text-align: right;\n",
       "    }\n",
       "</style>\n",
       "<table border=\"1\" class=\"dataframe\">\n",
       "  <thead>\n",
       "    <tr style=\"text-align: right;\">\n",
       "      <th></th>\n",
       "      <th>label</th>\n",
       "    </tr>\n",
       "  </thead>\n",
       "  <tbody>\n",
       "    <tr>\n",
       "      <th>0</th>\n",
       "      <td>1</td>\n",
       "    </tr>\n",
       "    <tr>\n",
       "      <th>1</th>\n",
       "      <td>0</td>\n",
       "    </tr>\n",
       "    <tr>\n",
       "      <th>2</th>\n",
       "      <td>0</td>\n",
       "    </tr>\n",
       "    <tr>\n",
       "      <th>3</th>\n",
       "      <td>0</td>\n",
       "    </tr>\n",
       "    <tr>\n",
       "      <th>4</th>\n",
       "      <td>0</td>\n",
       "    </tr>\n",
       "  </tbody>\n",
       "</table>\n",
       "</div>"
      ],
      "text/plain": [
       "   label\n",
       "0      1\n",
       "1      0\n",
       "2      0\n",
       "3      0\n",
       "4      0"
      ]
     },
     "execution_count": 8,
     "metadata": {},
     "output_type": "execute_result"
    }
   ],
   "source": [
    "y.head()"
   ]
  },
  {
   "cell_type": "code",
   "execution_count": 9,
   "metadata": {},
   "outputs": [
    {
     "name": "stdout",
     "output_type": "stream",
     "text": [
      "<class 'pandas.core.frame.DataFrame'>\n",
      "RangeIndex: 879882 entries, 0 to 879881\n",
      "Data columns (total 32 columns):\n",
      "aid                   879882 non-null int64\n",
      "uid                   879882 non-null int64\n",
      "advertiserId          879882 non-null int64\n",
      "campaignId            879882 non-null int64\n",
      "creativeId            879882 non-null int64\n",
      "creativeSize          879882 non-null int64\n",
      "adCategoryId          879882 non-null int64\n",
      "productId             879882 non-null int64\n",
      "productType           879882 non-null int64\n",
      "LBS                   879882 non-null float64\n",
      "age                   879882 non-null int64\n",
      "appIdAction           879882 non-null object\n",
      "appIdInstall          879882 non-null object\n",
      "carrier               879882 non-null int64\n",
      "consumptionAbility    879882 non-null int64\n",
      "ct                    879882 non-null object\n",
      "education             879882 non-null int64\n",
      "gender                879882 non-null int64\n",
      "house                 879882 non-null float64\n",
      "interest1             879882 non-null object\n",
      "interest2             879882 non-null object\n",
      "interest3             879882 non-null object\n",
      "interest4             879882 non-null object\n",
      "interest5             879882 non-null object\n",
      "kw1                   879882 non-null object\n",
      "kw2                   879882 non-null object\n",
      "kw3                   879882 non-null object\n",
      "marriageStatus        879882 non-null object\n",
      "os                    879882 non-null object\n",
      "topic1                879882 non-null object\n",
      "topic2                879882 non-null object\n",
      "topic3                879882 non-null object\n",
      "dtypes: float64(2), int64(14), object(16)\n",
      "memory usage: 214.8+ MB\n"
     ]
    }
   ],
   "source": [
    "X.info()"
   ]
  },
  {
   "cell_type": "markdown",
   "metadata": {},
   "source": [
    "### 查看所有属性值有缺失的样本， -1即为缺失值， 完整的无缺失属性的样本大概有4000条"
   ]
  },
  {
   "cell_type": "code",
   "execution_count": 10,
   "metadata": {},
   "outputs": [],
   "source": [
    "import numpy as np\n",
    "\n",
    "X_nan = X.replace('-1', np.nan)"
   ]
  },
  {
   "cell_type": "code",
   "execution_count": 11,
   "metadata": {},
   "outputs": [
    {
     "name": "stdout",
     "output_type": "stream",
     "text": [
      "<class 'pandas.core.frame.DataFrame'>\n",
      "Int64Index: 874982 entries, 0 to 879881\n",
      "Data columns (total 32 columns):\n",
      "aid                   874982 non-null int64\n",
      "uid                   874982 non-null int64\n",
      "advertiserId          874982 non-null int64\n",
      "campaignId            874982 non-null int64\n",
      "creativeId            874982 non-null int64\n",
      "creativeSize          874982 non-null int64\n",
      "adCategoryId          874982 non-null int64\n",
      "productId             874982 non-null int64\n",
      "productType           874982 non-null int64\n",
      "LBS                   874982 non-null float64\n",
      "age                   874982 non-null int64\n",
      "appIdAction           8330 non-null object\n",
      "appIdInstall          13065 non-null object\n",
      "carrier               874982 non-null int64\n",
      "consumptionAbility    874982 non-null int64\n",
      "ct                    874982 non-null object\n",
      "education             874982 non-null int64\n",
      "gender                874982 non-null int64\n",
      "house                 874982 non-null float64\n",
      "interest1             794878 non-null object\n",
      "interest2             578321 non-null object\n",
      "interest3             18590 non-null object\n",
      "interest4             8356 non-null object\n",
      "interest5             653302 non-null object\n",
      "kw1                   786475 non-null object\n",
      "kw2                   844837 non-null object\n",
      "kw3                   35669 non-null object\n",
      "marriageStatus        874982 non-null object\n",
      "os                    874982 non-null object\n",
      "topic1                799762 non-null object\n",
      "topic2                843126 non-null object\n",
      "topic3                35787 non-null object\n",
      "dtypes: float64(2), int64(14), object(16)\n",
      "memory usage: 220.3+ MB\n"
     ]
    }
   ],
   "source": [
    "X_nan[X_nan.isnull().any(axis=1)].info()"
   ]
  },
  {
   "cell_type": "code",
   "execution_count": 12,
   "metadata": {},
   "outputs": [
    {
     "data": {
      "text/html": [
       "<div>\n",
       "<style scoped>\n",
       "    .dataframe tbody tr th:only-of-type {\n",
       "        vertical-align: middle;\n",
       "    }\n",
       "\n",
       "    .dataframe tbody tr th {\n",
       "        vertical-align: top;\n",
       "    }\n",
       "\n",
       "    .dataframe thead th {\n",
       "        text-align: right;\n",
       "    }\n",
       "</style>\n",
       "<table border=\"1\" class=\"dataframe\">\n",
       "  <thead>\n",
       "    <tr style=\"text-align: right;\">\n",
       "      <th></th>\n",
       "      <th>aid</th>\n",
       "      <th>uid</th>\n",
       "      <th>advertiserId</th>\n",
       "      <th>campaignId</th>\n",
       "      <th>creativeId</th>\n",
       "      <th>creativeSize</th>\n",
       "      <th>adCategoryId</th>\n",
       "      <th>productId</th>\n",
       "      <th>productType</th>\n",
       "      <th>LBS</th>\n",
       "      <th>age</th>\n",
       "      <th>carrier</th>\n",
       "      <th>consumptionAbility</th>\n",
       "      <th>education</th>\n",
       "      <th>gender</th>\n",
       "      <th>house</th>\n",
       "    </tr>\n",
       "  </thead>\n",
       "  <tbody>\n",
       "    <tr>\n",
       "      <th>count</th>\n",
       "      <td>879882.000000</td>\n",
       "      <td>8.798820e+05</td>\n",
       "      <td>879882.000000</td>\n",
       "      <td>879882.000000</td>\n",
       "      <td>8.798820e+05</td>\n",
       "      <td>879882.000000</td>\n",
       "      <td>879882.000000</td>\n",
       "      <td>879882.000000</td>\n",
       "      <td>879882.000000</td>\n",
       "      <td>879882.000000</td>\n",
       "      <td>879882.000000</td>\n",
       "      <td>879882.000000</td>\n",
       "      <td>879882.000000</td>\n",
       "      <td>879882.000000</td>\n",
       "      <td>879882.000000</td>\n",
       "      <td>879882.000000</td>\n",
       "    </tr>\n",
       "    <tr>\n",
       "      <th>mean</th>\n",
       "      <td>1044.827087</td>\n",
       "      <td>4.126255e+07</td>\n",
       "      <td>18762.064357</td>\n",
       "      <td>168100.991176</td>\n",
       "      <td>8.918647e+05</td>\n",
       "      <td>53.249303</td>\n",
       "      <td>42.454034</td>\n",
       "      <td>3349.611233</td>\n",
       "      <td>7.233246</td>\n",
       "      <td>444.699821</td>\n",
       "      <td>2.961119</td>\n",
       "      <td>1.100448</td>\n",
       "      <td>0.979548</td>\n",
       "      <td>4.496702</td>\n",
       "      <td>1.343545</td>\n",
       "      <td>-0.639190</td>\n",
       "    </tr>\n",
       "    <tr>\n",
       "      <th>std</th>\n",
       "      <td>614.059703</td>\n",
       "      <td>2.383414e+07</td>\n",
       "      <td>33596.379482</td>\n",
       "      <td>185877.589050</td>\n",
       "      <td>5.316715e+05</td>\n",
       "      <td>23.877931</td>\n",
       "      <td>46.317972</td>\n",
       "      <td>6623.188958</td>\n",
       "      <td>2.993757</td>\n",
       "      <td>284.834986</td>\n",
       "      <td>1.517753</td>\n",
       "      <td>0.962700</td>\n",
       "      <td>0.638885</td>\n",
       "      <td>2.442480</td>\n",
       "      <td>0.480842</td>\n",
       "      <td>0.769049</td>\n",
       "    </tr>\n",
       "    <tr>\n",
       "      <th>min</th>\n",
       "      <td>6.000000</td>\n",
       "      <td>9.300000e+01</td>\n",
       "      <td>60.000000</td>\n",
       "      <td>80.000000</td>\n",
       "      <td>5.977000e+03</td>\n",
       "      <td>20.000000</td>\n",
       "      <td>1.000000</td>\n",
       "      <td>0.000000</td>\n",
       "      <td>4.000000</td>\n",
       "      <td>-1.000000</td>\n",
       "      <td>0.000000</td>\n",
       "      <td>0.000000</td>\n",
       "      <td>0.000000</td>\n",
       "      <td>0.000000</td>\n",
       "      <td>0.000000</td>\n",
       "      <td>-1.000000</td>\n",
       "    </tr>\n",
       "    <tr>\n",
       "      <th>25%</th>\n",
       "      <td>519.000000</td>\n",
       "      <td>2.060713e+07</td>\n",
       "      <td>1082.000000</td>\n",
       "      <td>37818.000000</td>\n",
       "      <td>4.553960e+05</td>\n",
       "      <td>35.000000</td>\n",
       "      <td>21.000000</td>\n",
       "      <td>0.000000</td>\n",
       "      <td>4.000000</td>\n",
       "      <td>192.000000</td>\n",
       "      <td>2.000000</td>\n",
       "      <td>0.000000</td>\n",
       "      <td>1.000000</td>\n",
       "      <td>2.000000</td>\n",
       "      <td>1.000000</td>\n",
       "      <td>-1.000000</td>\n",
       "    </tr>\n",
       "    <tr>\n",
       "      <th>50%</th>\n",
       "      <td>1107.000000</td>\n",
       "      <td>4.125402e+07</td>\n",
       "      <td>7565.000000</td>\n",
       "      <td>98158.000000</td>\n",
       "      <td>8.384550e+05</td>\n",
       "      <td>53.000000</td>\n",
       "      <td>24.000000</td>\n",
       "      <td>0.000000</td>\n",
       "      <td>6.000000</td>\n",
       "      <td>425.000000</td>\n",
       "      <td>3.000000</td>\n",
       "      <td>1.000000</td>\n",
       "      <td>1.000000</td>\n",
       "      <td>6.000000</td>\n",
       "      <td>1.000000</td>\n",
       "      <td>-1.000000</td>\n",
       "    </tr>\n",
       "    <tr>\n",
       "      <th>75%</th>\n",
       "      <td>1530.000000</td>\n",
       "      <td>6.189367e+07</td>\n",
       "      <td>17597.000000</td>\n",
       "      <td>286065.000000</td>\n",
       "      <td>1.367823e+06</td>\n",
       "      <td>60.000000</td>\n",
       "      <td>51.000000</td>\n",
       "      <td>3794.000000</td>\n",
       "      <td>11.000000</td>\n",
       "      <td>687.000000</td>\n",
       "      <td>4.000000</td>\n",
       "      <td>1.000000</td>\n",
       "      <td>1.000000</td>\n",
       "      <td>7.000000</td>\n",
       "      <td>2.000000</td>\n",
       "      <td>-1.000000</td>\n",
       "    </tr>\n",
       "    <tr>\n",
       "      <th>max</th>\n",
       "      <td>2216.000000</td>\n",
       "      <td>8.254290e+07</td>\n",
       "      <td>158679.000000</td>\n",
       "      <td>766460.000000</td>\n",
       "      <td>1.806760e+06</td>\n",
       "      <td>109.000000</td>\n",
       "      <td>282.000000</td>\n",
       "      <td>28986.000000</td>\n",
       "      <td>11.000000</td>\n",
       "      <td>997.000000</td>\n",
       "      <td>5.000000</td>\n",
       "      <td>3.000000</td>\n",
       "      <td>2.000000</td>\n",
       "      <td>7.000000</td>\n",
       "      <td>2.000000</td>\n",
       "      <td>1.000000</td>\n",
       "    </tr>\n",
       "  </tbody>\n",
       "</table>\n",
       "</div>"
      ],
      "text/plain": [
       "                 aid           uid   advertiserId     campaignId  \\\n",
       "count  879882.000000  8.798820e+05  879882.000000  879882.000000   \n",
       "mean     1044.827087  4.126255e+07   18762.064357  168100.991176   \n",
       "std       614.059703  2.383414e+07   33596.379482  185877.589050   \n",
       "min         6.000000  9.300000e+01      60.000000      80.000000   \n",
       "25%       519.000000  2.060713e+07    1082.000000   37818.000000   \n",
       "50%      1107.000000  4.125402e+07    7565.000000   98158.000000   \n",
       "75%      1530.000000  6.189367e+07   17597.000000  286065.000000   \n",
       "max      2216.000000  8.254290e+07  158679.000000  766460.000000   \n",
       "\n",
       "         creativeId   creativeSize   adCategoryId      productId  \\\n",
       "count  8.798820e+05  879882.000000  879882.000000  879882.000000   \n",
       "mean   8.918647e+05      53.249303      42.454034    3349.611233   \n",
       "std    5.316715e+05      23.877931      46.317972    6623.188958   \n",
       "min    5.977000e+03      20.000000       1.000000       0.000000   \n",
       "25%    4.553960e+05      35.000000      21.000000       0.000000   \n",
       "50%    8.384550e+05      53.000000      24.000000       0.000000   \n",
       "75%    1.367823e+06      60.000000      51.000000    3794.000000   \n",
       "max    1.806760e+06     109.000000     282.000000   28986.000000   \n",
       "\n",
       "         productType            LBS            age        carrier  \\\n",
       "count  879882.000000  879882.000000  879882.000000  879882.000000   \n",
       "mean        7.233246     444.699821       2.961119       1.100448   \n",
       "std         2.993757     284.834986       1.517753       0.962700   \n",
       "min         4.000000      -1.000000       0.000000       0.000000   \n",
       "25%         4.000000     192.000000       2.000000       0.000000   \n",
       "50%         6.000000     425.000000       3.000000       1.000000   \n",
       "75%        11.000000     687.000000       4.000000       1.000000   \n",
       "max        11.000000     997.000000       5.000000       3.000000   \n",
       "\n",
       "       consumptionAbility      education         gender          house  \n",
       "count       879882.000000  879882.000000  879882.000000  879882.000000  \n",
       "mean             0.979548       4.496702       1.343545      -0.639190  \n",
       "std              0.638885       2.442480       0.480842       0.769049  \n",
       "min              0.000000       0.000000       0.000000      -1.000000  \n",
       "25%              1.000000       2.000000       1.000000      -1.000000  \n",
       "50%              1.000000       6.000000       1.000000      -1.000000  \n",
       "75%              1.000000       7.000000       2.000000      -1.000000  \n",
       "max              2.000000       7.000000       2.000000       1.000000  "
      ]
     },
     "execution_count": 12,
     "metadata": {},
     "output_type": "execute_result"
    }
   ],
   "source": [
    "X.describe()"
   ]
  },
  {
   "cell_type": "markdown",
   "metadata": {},
   "source": [
    "### 先查看所有广告特征\n",
    "\n",
    "其中id692是提取数据中出现次数最多的"
   ]
  },
  {
   "cell_type": "code",
   "execution_count": 13,
   "metadata": {},
   "outputs": [
    {
     "data": {
      "text/plain": [
       "692     55340\n",
       "1119    39378\n",
       "411     37317\n",
       "1468    32815\n",
       "1291    27555\n",
       "561     24301\n",
       "1918    24206\n",
       "1566    21132\n",
       "191     20923\n",
       "1415    18104\n",
       "914     17974\n",
       "70      17753\n",
       "1605    15986\n",
       "1379    14171\n",
       "136     13942\n",
       "2031    12813\n",
       "117     12785\n",
       "846     12068\n",
       "1407    11864\n",
       "1530    11058\n",
       "389     10522\n",
       "916      9358\n",
       "1950     9316\n",
       "302      9261\n",
       "2118     9187\n",
       "1017     8709\n",
       "1377     8668\n",
       "1749     8265\n",
       "1596     8161\n",
       "1827     8067\n",
       "        ...  \n",
       "6        1003\n",
       "1027      975\n",
       "671       974\n",
       "1842      960\n",
       "1871      944\n",
       "1580      890\n",
       "205       864\n",
       "2196      836\n",
       "1335      834\n",
       "1847      809\n",
       "450       800\n",
       "903       799\n",
       "1429      795\n",
       "2154      794\n",
       "1507      793\n",
       "875       790\n",
       "1057      785\n",
       "927       779\n",
       "951       761\n",
       "313       746\n",
       "516       723\n",
       "975       712\n",
       "272       710\n",
       "1085      701\n",
       "1351      689\n",
       "336       687\n",
       "1242      682\n",
       "838       671\n",
       "1925      671\n",
       "1746      664\n",
       "Name: aid, Length: 173, dtype: int64"
      ]
     },
     "execution_count": 13,
     "metadata": {},
     "output_type": "execute_result"
    }
   ],
   "source": [
    "X['aid'].value_counts()"
   ]
  },
  {
   "cell_type": "code",
   "execution_count": 14,
   "metadata": {},
   "outputs": [
    {
     "data": {
      "text/plain": [
       "<matplotlib.axes._subplots.AxesSubplot at 0xb4590b8>"
      ]
     },
     "execution_count": 14,
     "metadata": {},
     "output_type": "execute_result"
    },
    {
     "data": {
      "image/png": "[encoded data removed]",
      "text/plain": [
       "<matplotlib.figure.Figure at 0xb45b6a0>"
      ]
     },
     "metadata": {},
     "output_type": "display_data"
    }
   ],
   "source": [
    "sns.countplot(x='aid', data=X)"
   ]
  },
  {
   "cell_type": "markdown",
   "metadata": {},
   "source": [
    "接着查看广告商id，提取数据中共有79个广告提供商，6946出现次数最多"
   ]
  },
  {
   "cell_type": "code",
   "execution_count": 15,
   "metadata": {},
   "outputs": [
    {
     "data": {
      "text/plain": [
       "6946      76472\n",
       "915       53728\n",
       "9106      50668\n",
       "702       44161\n",
       "3993      43416\n",
       "1082      43161\n",
       "8203      30106\n",
       "8864      26239\n",
       "11195     25173\n",
       "25485     24801\n",
       "17597     24683\n",
       "44008     24301\n",
       "158679    24206\n",
       "388       23981\n",
       "370       22330\n",
       "5552      22214\n",
       "452       20605\n",
       "327       19634\n",
       "11437     18904\n",
       "47823     18735\n",
       "133292    18104\n",
       "11487     17020\n",
       "6937      15363\n",
       "83042     12813\n",
       "18621     12360\n",
       "8350      12150\n",
       "79        11068\n",
       "41806      9316\n",
       "21359      8265\n",
       "24704      8161\n",
       "          ...  \n",
       "285        2009\n",
       "149        1891\n",
       "15174      1891\n",
       "10122      1830\n",
       "45705      1774\n",
       "29704      1747\n",
       "6841       1740\n",
       "104071     1690\n",
       "58643      1614\n",
       "990        1479\n",
       "7300       1422\n",
       "7926       1395\n",
       "11459      1394\n",
       "9619       1338\n",
       "14315      1233\n",
       "71505      1228\n",
       "21017      1195\n",
       "14818      1173\n",
       "49772      1156\n",
       "16770      1084\n",
       "23805      1082\n",
       "5758       1022\n",
       "27367       960\n",
       "9571        864\n",
       "20943       836\n",
       "2509        809\n",
       "22802       794\n",
       "60          790\n",
       "7229        689\n",
       "75748       664\n",
       "Name: advertiserId, Length: 79, dtype: int64"
      ]
     },
     "execution_count": 15,
     "metadata": {},
     "output_type": "execute_result"
    }
   ],
   "source": [
    "X['advertiserId'].value_counts()"
   ]
  },
  {
   "cell_type": "code",
   "execution_count": 94,
   "metadata": {},
   "outputs": [
    {
     "data": {
      "text/plain": [
       "<matplotlib.axes._subplots.AxesSubplot at 0x5a599e10>"
      ]
     },
     "execution_count": 94,
     "metadata": {},
     "output_type": "execute_result"
    },
    {
     "data": {
      "image/png": "[encoded data removed]",
      "text/plain": [
       "<matplotlib.figure.Figure at 0x5a72f6a0>"
      ]
     },
     "metadata": {},
     "output_type": "display_data"
    }
   ],
   "source": [
    "X_combined['id_scaled'] = X_combined['advertiserId']/10000\n",
    "sns.countplot(x='id_scaled', data=X_combined, hue='label')"
   ]
  },
  {
   "cell_type": "markdown",
   "metadata": {},
   "source": [
    "下一步查看推广计划id, 共有138个推广计划，其中296367出现次数最多"
   ]
  },
  {
   "cell_type": "code",
   "execution_count": 16,
   "metadata": {},
   "outputs": [
    {
     "data": {
      "text/plain": [
       "296367    76472\n",
       "994       41789\n",
       "63752     40428\n",
       "163120    37317\n",
       "40405     31563\n",
       "19215     25173\n",
       "51385     24683\n",
       "100565    24301\n",
       "643438    24206\n",
       "50138     20923\n",
       "18237     18904\n",
       "464828    18104\n",
       "111645    17974\n",
       "5616      17753\n",
       "12724     17041\n",
       "186348    15363\n",
       "90700     14171\n",
       "50305     13942\n",
       "280832    12813\n",
       "18552     12785\n",
       "310473    12068\n",
       "31020     11939\n",
       "295940    10553\n",
       "662422    10522\n",
       "37818     10441\n",
       "233191     9316\n",
       "745599     9261\n",
       "741453     8709\n",
       "209098     8668\n",
       "361928     8265\n",
       "          ...  \n",
       "487541     1156\n",
       "404        1106\n",
       "110094     1088\n",
       "38402      1084\n",
       "61383      1082\n",
       "132657     1051\n",
       "49189      1045\n",
       "199508     1022\n",
       "766460     1003\n",
       "95990       960\n",
       "734054      944\n",
       "27030       890\n",
       "538818      864\n",
       "445098      836\n",
       "645468      834\n",
       "141893      809\n",
       "59293       799\n",
       "86429       795\n",
       "295567      794\n",
       "358536      793\n",
       "128701      790\n",
       "219802      779\n",
       "475236      761\n",
       "531344      746\n",
       "76011       712\n",
       "134120      701\n",
       "17378       689\n",
       "4833        687\n",
       "131853      671\n",
       "204378      664\n",
       "Name: campaignId, Length: 138, dtype: int64"
      ]
     },
     "execution_count": 16,
     "metadata": {},
     "output_type": "execute_result"
    }
   ],
   "source": [
    "X['campaignId'].value_counts()"
   ]
  },
  {
   "cell_type": "code",
   "execution_count": 18,
   "metadata": {},
   "outputs": [
    {
     "data": {
      "text/plain": [
       "35     190185\n",
       "59     173295\n",
       "22     139263\n",
       "53      86822\n",
       "79      76391\n",
       "60      65995\n",
       "100     48616\n",
       "42      30992\n",
       "105     17041\n",
       "91      15930\n",
       "109     12597\n",
       "77       8761\n",
       "95       7114\n",
       "20       6209\n",
       "93        671\n",
       "Name: creativeSize, dtype: int64"
      ]
     },
     "execution_count": 18,
     "metadata": {},
     "output_type": "execute_result"
    }
   ],
   "source": [
    "X['creativeSize'].value_counts()"
   ]
  },
  {
   "cell_type": "markdown",
   "metadata": {},
   "source": [
    "接着查看素材和素材大小是否和用户的点击有关, 素材大小共有15种"
   ]
  },
  {
   "cell_type": "code",
   "execution_count": 22,
   "metadata": {},
   "outputs": [
    {
     "data": {
      "text/plain": [
       "35     190185\n",
       "59     173295\n",
       "22     139263\n",
       "53      86822\n",
       "79      76391\n",
       "60      65995\n",
       "100     48616\n",
       "42      30992\n",
       "105     17041\n",
       "91      15930\n",
       "109     12597\n",
       "77       8761\n",
       "95       7114\n",
       "20       6209\n",
       "93        671\n",
       "Name: creativeSize, dtype: int64"
      ]
     },
     "execution_count": 22,
     "metadata": {},
     "output_type": "execute_result"
    }
   ],
   "source": [
    "X['creativeSize'].value_counts()"
   ]
  },
  {
   "cell_type": "code",
   "execution_count": 24,
   "metadata": {},
   "outputs": [],
   "source": [
    "X_combined = pd.concat([X, y], axis=1) #将标签和特征组合"
   ]
  },
  {
   "cell_type": "markdown",
   "metadata": {},
   "source": [
    "可以看出广告素材大小在22到60之间用户的点击率是最高的"
   ]
  },
  {
   "cell_type": "code",
   "execution_count": 95,
   "metadata": {},
   "outputs": [
    {
     "data": {
      "text/plain": [
       "<matplotlib.axes._subplots.AxesSubplot at 0x5a9340f0>"
      ]
     },
     "execution_count": 95,
     "metadata": {},
     "output_type": "execute_result"
    },
    {
     "data": {
      "image/png": "[encoded data removed]",
      "text/plain": [
       "<matplotlib.figure.Figure at 0x5a40aa90>"
      ]
     },
     "metadata": {},
     "output_type": "display_data"
    }
   ],
   "source": [
    "sns.countplot(x='creativeSize', data=X_combined[X_combined['label']==1])"
   ]
  },
  {
   "cell_type": "code",
   "execution_count": 28,
   "metadata": {},
   "outputs": [
    {
     "data": {
      "text/plain": [
       "<matplotlib.axes._subplots.AxesSubplot at 0x5b21d5f8>"
      ]
     },
     "execution_count": 28,
     "metadata": {},
     "output_type": "execute_result"
    },
    {
     "data": {
      "image/png": "[encoded data removed]",
      "text/plain": [
       "<matplotlib.figure.Figure at 0x5b21d128>"
      ]
     },
     "metadata": {},
     "output_type": "display_data"
    }
   ],
   "source": [
    "sns.barplot(x='creativeId', y='creativeSize', hue='label', data=X_combined)"
   ]
  },
  {
   "cell_type": "markdown",
   "metadata": {},
   "source": [
    "然后查看广告类目信息"
   ]
  },
  {
   "cell_type": "code",
   "execution_count": 33,
   "metadata": {},
   "outputs": [
    {
     "data": {
      "text/plain": [
       "21     150423\n",
       "10     113452\n",
       "24     105654\n",
       "27     104969\n",
       "51      78529\n",
       "13      46611\n",
       "4       33016\n",
       "67      32403\n",
       "140     25173\n",
       "74      18104\n",
       "43      16641\n",
       "89      16447\n",
       "142     16272\n",
       "218     15847\n",
       "59      15786\n",
       "70      12813\n",
       "94      10357\n",
       "25      10318\n",
       "1       10257\n",
       "22       5866\n",
       "108      5009\n",
       "282      4404\n",
       "34       3881\n",
       "8        3492\n",
       "100      2988\n",
       "192      2899\n",
       "137      2881\n",
       "77       2355\n",
       "30       2009\n",
       "40       1338\n",
       "265      1233\n",
       "179      1195\n",
       "125      1181\n",
       "9        1156\n",
       "149      1082\n",
       "48        864\n",
       "81        809\n",
       "204       794\n",
       "102       710\n",
       "121       664\n",
       "Name: adCategoryId, dtype: int64"
      ]
     },
     "execution_count": 33,
     "metadata": {},
     "output_type": "execute_result"
    }
   ],
   "source": [
    "X['adCategoryId'].value_counts()"
   ]
  },
  {
   "cell_type": "code",
   "execution_count": 65,
   "metadata": {},
   "outputs": [
    {
     "data": {
      "text/plain": [
       "<seaborn.axisgrid.JointGrid at 0x5d12ee10>"
      ]
     },
     "execution_count": 65,
     "metadata": {},
     "output_type": "execute_result"
    },
    {
     "data": {
      "image/png": "[encoded data removed]",
      "text/plain": [
       "<matplotlib.figure.Figure at 0x6f1b0630>"
      ]
     },
     "metadata": {},
     "output_type": "display_data"
    }
   ],
   "source": [
    "sns.jointplot(x='creativeId', y='creativeSize', data=X)"
   ]
  },
  {
   "cell_type": "code",
   "execution_count": 96,
   "metadata": {},
   "outputs": [
    {
     "data": {
      "text/plain": [
       "<matplotlib.axes._subplots.AxesSubplot at 0x5aaafef0>"
      ]
     },
     "execution_count": 96,
     "metadata": {},
     "output_type": "execute_result"
    },
    {
     "data": {
      "image/png": "[encoded data removed]",
      "text/plain": [
       "<matplotlib.figure.Figure at 0x5aa91cc0>"
      ]
     },
     "metadata": {},
     "output_type": "display_data"
    }
   ],
   "source": [
    "sns.countplot(x='adCategoryId', data=X_combined[X_combined['label']==1], hue='label')"
   ]
  },
  {
   "cell_type": "code",
   "execution_count": 97,
   "metadata": {},
   "outputs": [
    {
     "data": {
      "text/plain": [
       "<matplotlib.axes._subplots.AxesSubplot at 0x5ab48c18>"
      ]
     },
     "execution_count": 97,
     "metadata": {},
     "output_type": "execute_result"
    },
    {
     "data": {
      "image/png": "[encoded data removed]",
      "text/plain": [
       "<matplotlib.figure.Figure at 0x5c496e80>"
      ]
     },
     "metadata": {},
     "output_type": "display_data"
    }
   ],
   "source": [
    "sns.boxplot(x='adCategoryId', y='creativeSize', data=X_combined)"
   ]
  },
  {
   "cell_type": "markdown",
   "metadata": {},
   "source": [
    "接下来查看推广的商品和用户点击的关系, 提取数据中总共有33中产品，"
   ]
  },
  {
   "cell_type": "code",
   "execution_count": 38,
   "metadata": {},
   "outputs": [
    {
     "data": {
      "text/plain": [
       "0        461061\n",
       "113      117566\n",
       "3794      76472\n",
       "19256     40428\n",
       "15454     24801\n",
       "4669      23578\n",
       "5615      20583\n",
       "3791      15363\n",
       "7992      13942\n",
       "25730     12068\n",
       "27855      9316\n",
       "4666       6705\n",
       "12193      6663\n",
       "1455       6585\n",
       "439        5958\n",
       "28986      4573\n",
       "38         4483\n",
       "4772       4110\n",
       "3733       3570\n",
       "24947      2988\n",
       "3826       2881\n",
       "17614      2244\n",
       "11636      2155\n",
       "542        2141\n",
       "70         1891\n",
       "13727      1479\n",
       "9760       1084\n",
       "14314      1082\n",
       "16791       960\n",
       "5336        864\n",
       "1313        809\n",
       "3194        790\n",
       "6131        689\n",
       "Name: productId, dtype: int64"
      ]
     },
     "execution_count": 38,
     "metadata": {},
     "output_type": "execute_result"
    }
   ],
   "source": [
    "X['productId'].value_counts()"
   ]
  },
  {
   "cell_type": "code",
   "execution_count": 61,
   "metadata": {},
   "outputs": [
    {
     "data": {
      "text/plain": [
       "<matplotlib.axes._subplots.AxesSubplot at 0x747350b8>"
      ]
     },
     "execution_count": 61,
     "metadata": {},
     "output_type": "execute_result"
    },
    {
     "data": {
      "image/png": "[encoded data removed]",
      "text/plain": [
       "<matplotlib.figure.Figure at 0x746587f0>"
      ]
     },
     "metadata": {},
     "output_type": "display_data"
    }
   ],
   "source": [
    "sns.countplot(x='productId', data=X_combined, hue='label')"
   ]
  },
  {
   "cell_type": "markdown",
   "metadata": {},
   "source": [
    "查看最重要的属性之一，推广商品的类型，总共有4种类型的产品，用户点击情况比较平均，可以考虑加一个属性\n",
    "每种商品类型的转化人数除以商品出现的总次数，来代表这种产品的转化率"
   ]
  },
  {
   "cell_type": "code",
   "execution_count": 63,
   "metadata": {
    "scrolled": true
   },
   "outputs": [
    {
     "data": {
      "text/plain": [
       "<matplotlib.axes._subplots.AxesSubplot at 0x6f65e588>"
      ]
     },
     "execution_count": 63,
     "metadata": {},
     "output_type": "execute_result"
    },
    {
     "data": {
      "image/png": "[encoded data removed]",
      "text/plain": [
       "<matplotlib.figure.Figure at 0x748a9240>"
      ]
     },
     "metadata": {},
     "output_type": "display_data"
    }
   ],
   "source": [
    "sns.countplot(x='productType', data=X_combined, hue='label')"
   ]
  },
  {
   "cell_type": "markdown",
   "metadata": {},
   "source": [
    "每种商品转化率计算结果基本一样，说明商品类型对转化率没有直接影响"
   ]
  },
  {
   "cell_type": "code",
   "execution_count": 87,
   "metadata": {
    "scrolled": true
   },
   "outputs": [
    {
     "data": {
      "text/plain": [
       "productType\n",
       "4.0     0.047859\n",
       "6.0     0.047335\n",
       "9.0     0.047592\n",
       "11.0    0.048611\n",
       "Name: label, dtype: float64"
      ]
     },
     "execution_count": 87,
     "metadata": {},
     "output_type": "execute_result"
    }
   ],
   "source": [
    "pro_type = X_combined.groupby(X_combined['productType'])\n",
    "click_ratio = pro_type.sum()['label'] / pro_type['label'].count()\n",
    "click_ratio"
   ]
  },
  {
   "cell_type": "markdown",
   "metadata": {},
   "source": [
    "查看所有特征之间的相关系数"
   ]
  },
  {
   "cell_type": "code",
   "execution_count": 71,
   "metadata": {},
   "outputs": [
    {
     "data": {
      "text/html": [
       "<div>\n",
       "<style scoped>\n",
       "    .dataframe tbody tr th:only-of-type {\n",
       "        vertical-align: middle;\n",
       "    }\n",
       "\n",
       "    .dataframe tbody tr th {\n",
       "        vertical-align: top;\n",
       "    }\n",
       "\n",
       "    .dataframe thead th {\n",
       "        text-align: right;\n",
       "    }\n",
       "</style>\n",
       "<table border=\"1\" class=\"dataframe\">\n",
       "  <thead>\n",
       "    <tr style=\"text-align: right;\">\n",
       "      <th></th>\n",
       "      <th>aid</th>\n",
       "      <th>uid</th>\n",
       "      <th>advertiserId</th>\n",
       "      <th>campaignId</th>\n",
       "      <th>creativeId</th>\n",
       "      <th>creativeSize</th>\n",
       "      <th>adCategoryId</th>\n",
       "      <th>productId</th>\n",
       "      <th>productType</th>\n",
       "      <th>LBS</th>\n",
       "      <th>age</th>\n",
       "      <th>carrier</th>\n",
       "      <th>consumptionAbility</th>\n",
       "      <th>education</th>\n",
       "      <th>gender</th>\n",
       "      <th>house</th>\n",
       "    </tr>\n",
       "  </thead>\n",
       "  <tbody>\n",
       "    <tr>\n",
       "      <th>aid</th>\n",
       "      <td>1.000000</td>\n",
       "      <td>0.001625</td>\n",
       "      <td>0.277521</td>\n",
       "      <td>0.025998</td>\n",
       "      <td>0.307026</td>\n",
       "      <td>-0.042451</td>\n",
       "      <td>0.098115</td>\n",
       "      <td>-0.048243</td>\n",
       "      <td>-0.151655</td>\n",
       "      <td>-0.002409</td>\n",
       "      <td>-0.019990</td>\n",
       "      <td>0.037981</td>\n",
       "      <td>0.042987</td>\n",
       "      <td>0.025435</td>\n",
       "      <td>0.032694</td>\n",
       "      <td>0.022604</td>\n",
       "    </tr>\n",
       "    <tr>\n",
       "      <th>uid</th>\n",
       "      <td>0.001625</td>\n",
       "      <td>1.000000</td>\n",
       "      <td>0.000923</td>\n",
       "      <td>0.000859</td>\n",
       "      <td>0.000814</td>\n",
       "      <td>0.001229</td>\n",
       "      <td>-0.000439</td>\n",
       "      <td>-0.001385</td>\n",
       "      <td>-0.001868</td>\n",
       "      <td>0.001602</td>\n",
       "      <td>0.001367</td>\n",
       "      <td>-0.000566</td>\n",
       "      <td>-0.001757</td>\n",
       "      <td>0.000724</td>\n",
       "      <td>-0.000494</td>\n",
       "      <td>-0.002435</td>\n",
       "    </tr>\n",
       "    <tr>\n",
       "      <th>advertiserId</th>\n",
       "      <td>0.277521</td>\n",
       "      <td>0.000923</td>\n",
       "      <td>1.000000</td>\n",
       "      <td>0.495009</td>\n",
       "      <td>0.148868</td>\n",
       "      <td>0.002583</td>\n",
       "      <td>-0.016838</td>\n",
       "      <td>-0.092087</td>\n",
       "      <td>-0.372419</td>\n",
       "      <td>-0.005430</td>\n",
       "      <td>0.109812</td>\n",
       "      <td>0.067534</td>\n",
       "      <td>0.043639</td>\n",
       "      <td>0.065102</td>\n",
       "      <td>-0.101659</td>\n",
       "      <td>0.011875</td>\n",
       "    </tr>\n",
       "    <tr>\n",
       "      <th>campaignId</th>\n",
       "      <td>0.025998</td>\n",
       "      <td>0.000859</td>\n",
       "      <td>0.495009</td>\n",
       "      <td>1.000000</td>\n",
       "      <td>0.250865</td>\n",
       "      <td>0.000205</td>\n",
       "      <td>-0.141054</td>\n",
       "      <td>-0.103099</td>\n",
       "      <td>-0.207539</td>\n",
       "      <td>-0.002588</td>\n",
       "      <td>0.073543</td>\n",
       "      <td>-0.026287</td>\n",
       "      <td>-0.027418</td>\n",
       "      <td>-0.014804</td>\n",
       "      <td>0.019379</td>\n",
       "      <td>-0.039340</td>\n",
       "    </tr>\n",
       "    <tr>\n",
       "      <th>creativeId</th>\n",
       "      <td>0.307026</td>\n",
       "      <td>0.000814</td>\n",
       "      <td>0.148868</td>\n",
       "      <td>0.250865</td>\n",
       "      <td>1.000000</td>\n",
       "      <td>-0.024255</td>\n",
       "      <td>0.063013</td>\n",
       "      <td>-0.123772</td>\n",
       "      <td>-0.239727</td>\n",
       "      <td>0.000666</td>\n",
       "      <td>0.064559</td>\n",
       "      <td>0.069220</td>\n",
       "      <td>0.049846</td>\n",
       "      <td>0.098397</td>\n",
       "      <td>0.072524</td>\n",
       "      <td>0.047808</td>\n",
       "    </tr>\n",
       "    <tr>\n",
       "      <th>creativeSize</th>\n",
       "      <td>-0.042451</td>\n",
       "      <td>0.001229</td>\n",
       "      <td>0.002583</td>\n",
       "      <td>0.000205</td>\n",
       "      <td>-0.024255</td>\n",
       "      <td>1.000000</td>\n",
       "      <td>0.000851</td>\n",
       "      <td>-0.162645</td>\n",
       "      <td>-0.262257</td>\n",
       "      <td>-0.011043</td>\n",
       "      <td>0.052184</td>\n",
       "      <td>0.007738</td>\n",
       "      <td>-0.064333</td>\n",
       "      <td>0.065918</td>\n",
       "      <td>-0.156163</td>\n",
       "      <td>0.052784</td>\n",
       "    </tr>\n",
       "    <tr>\n",
       "      <th>adCategoryId</th>\n",
       "      <td>0.098115</td>\n",
       "      <td>-0.000439</td>\n",
       "      <td>-0.016838</td>\n",
       "      <td>-0.141054</td>\n",
       "      <td>0.063013</td>\n",
       "      <td>0.000851</td>\n",
       "      <td>1.000000</td>\n",
       "      <td>-0.151390</td>\n",
       "      <td>-0.217472</td>\n",
       "      <td>0.000948</td>\n",
       "      <td>-0.058483</td>\n",
       "      <td>0.017384</td>\n",
       "      <td>0.009403</td>\n",
       "      <td>0.007058</td>\n",
       "      <td>0.127489</td>\n",
       "      <td>0.013235</td>\n",
       "    </tr>\n",
       "    <tr>\n",
       "      <th>productId</th>\n",
       "      <td>-0.048243</td>\n",
       "      <td>-0.001385</td>\n",
       "      <td>-0.092087</td>\n",
       "      <td>-0.103099</td>\n",
       "      <td>-0.123772</td>\n",
       "      <td>-0.162645</td>\n",
       "      <td>-0.151390</td>\n",
       "      <td>1.000000</td>\n",
       "      <td>0.541548</td>\n",
       "      <td>0.014798</td>\n",
       "      <td>0.010298</td>\n",
       "      <td>-0.013582</td>\n",
       "      <td>-0.015500</td>\n",
       "      <td>-0.046713</td>\n",
       "      <td>-0.300030</td>\n",
       "      <td>-0.026255</td>\n",
       "    </tr>\n",
       "    <tr>\n",
       "      <th>productType</th>\n",
       "      <td>-0.151655</td>\n",
       "      <td>-0.001868</td>\n",
       "      <td>-0.372419</td>\n",
       "      <td>-0.207539</td>\n",
       "      <td>-0.239727</td>\n",
       "      <td>-0.262257</td>\n",
       "      <td>-0.217472</td>\n",
       "      <td>0.541548</td>\n",
       "      <td>1.000000</td>\n",
       "      <td>0.012515</td>\n",
       "      <td>-0.009832</td>\n",
       "      <td>-0.067925</td>\n",
       "      <td>-0.051513</td>\n",
       "      <td>-0.085181</td>\n",
       "      <td>-0.169322</td>\n",
       "      <td>-0.066993</td>\n",
       "    </tr>\n",
       "    <tr>\n",
       "      <th>LBS</th>\n",
       "      <td>-0.002409</td>\n",
       "      <td>0.001602</td>\n",
       "      <td>-0.005430</td>\n",
       "      <td>-0.002588</td>\n",
       "      <td>0.000666</td>\n",
       "      <td>-0.011043</td>\n",
       "      <td>0.000948</td>\n",
       "      <td>0.014798</td>\n",
       "      <td>0.012515</td>\n",
       "      <td>1.000000</td>\n",
       "      <td>-0.001868</td>\n",
       "      <td>0.001171</td>\n",
       "      <td>0.018391</td>\n",
       "      <td>0.001120</td>\n",
       "      <td>-0.001541</td>\n",
       "      <td>-0.028529</td>\n",
       "    </tr>\n",
       "    <tr>\n",
       "      <th>age</th>\n",
       "      <td>-0.019990</td>\n",
       "      <td>0.001367</td>\n",
       "      <td>0.109812</td>\n",
       "      <td>0.073543</td>\n",
       "      <td>0.064559</td>\n",
       "      <td>0.052184</td>\n",
       "      <td>-0.058483</td>\n",
       "      <td>0.010298</td>\n",
       "      <td>-0.009832</td>\n",
       "      <td>-0.001868</td>\n",
       "      <td>1.000000</td>\n",
       "      <td>-0.045805</td>\n",
       "      <td>-0.066836</td>\n",
       "      <td>0.115635</td>\n",
       "      <td>-0.069608</td>\n",
       "      <td>-0.087757</td>\n",
       "    </tr>\n",
       "    <tr>\n",
       "      <th>carrier</th>\n",
       "      <td>0.037981</td>\n",
       "      <td>-0.000566</td>\n",
       "      <td>0.067534</td>\n",
       "      <td>-0.026287</td>\n",
       "      <td>0.069220</td>\n",
       "      <td>0.007738</td>\n",
       "      <td>0.017384</td>\n",
       "      <td>-0.013582</td>\n",
       "      <td>-0.067925</td>\n",
       "      <td>0.001171</td>\n",
       "      <td>-0.045805</td>\n",
       "      <td>1.000000</td>\n",
       "      <td>0.193905</td>\n",
       "      <td>0.176432</td>\n",
       "      <td>0.020940</td>\n",
       "      <td>0.202012</td>\n",
       "    </tr>\n",
       "    <tr>\n",
       "      <th>consumptionAbility</th>\n",
       "      <td>0.042987</td>\n",
       "      <td>-0.001757</td>\n",
       "      <td>0.043639</td>\n",
       "      <td>-0.027418</td>\n",
       "      <td>0.049846</td>\n",
       "      <td>-0.064333</td>\n",
       "      <td>0.009403</td>\n",
       "      <td>-0.015500</td>\n",
       "      <td>-0.051513</td>\n",
       "      <td>0.018391</td>\n",
       "      <td>-0.066836</td>\n",
       "      <td>0.193905</td>\n",
       "      <td>1.000000</td>\n",
       "      <td>0.095311</td>\n",
       "      <td>0.107206</td>\n",
       "      <td>0.069062</td>\n",
       "    </tr>\n",
       "    <tr>\n",
       "      <th>education</th>\n",
       "      <td>0.025435</td>\n",
       "      <td>0.000724</td>\n",
       "      <td>0.065102</td>\n",
       "      <td>-0.014804</td>\n",
       "      <td>0.098397</td>\n",
       "      <td>0.065918</td>\n",
       "      <td>0.007058</td>\n",
       "      <td>-0.046713</td>\n",
       "      <td>-0.085181</td>\n",
       "      <td>0.001120</td>\n",
       "      <td>0.115635</td>\n",
       "      <td>0.176432</td>\n",
       "      <td>0.095311</td>\n",
       "      <td>1.000000</td>\n",
       "      <td>-0.000980</td>\n",
       "      <td>0.155883</td>\n",
       "    </tr>\n",
       "    <tr>\n",
       "      <th>gender</th>\n",
       "      <td>0.032694</td>\n",
       "      <td>-0.000494</td>\n",
       "      <td>-0.101659</td>\n",
       "      <td>0.019379</td>\n",
       "      <td>0.072524</td>\n",
       "      <td>-0.156163</td>\n",
       "      <td>0.127489</td>\n",
       "      <td>-0.300030</td>\n",
       "      <td>-0.169322</td>\n",
       "      <td>-0.001541</td>\n",
       "      <td>-0.069608</td>\n",
       "      <td>0.020940</td>\n",
       "      <td>0.107206</td>\n",
       "      <td>-0.000980</td>\n",
       "      <td>1.000000</td>\n",
       "      <td>-0.060132</td>\n",
       "    </tr>\n",
       "    <tr>\n",
       "      <th>house</th>\n",
       "      <td>0.022604</td>\n",
       "      <td>-0.002435</td>\n",
       "      <td>0.011875</td>\n",
       "      <td>-0.039340</td>\n",
       "      <td>0.047808</td>\n",
       "      <td>0.052784</td>\n",
       "      <td>0.013235</td>\n",
       "      <td>-0.026255</td>\n",
       "      <td>-0.066993</td>\n",
       "      <td>-0.028529</td>\n",
       "      <td>-0.087757</td>\n",
       "      <td>0.202012</td>\n",
       "      <td>0.069062</td>\n",
       "      <td>0.155883</td>\n",
       "      <td>-0.060132</td>\n",
       "      <td>1.000000</td>\n",
       "    </tr>\n",
       "  </tbody>\n",
       "</table>\n",
       "</div>"
      ],
      "text/plain": [
       "                         aid       uid  advertiserId  campaignId  creativeId  \\\n",
       "aid                 1.000000  0.001625      0.277521    0.025998    0.307026   \n",
       "uid                 0.001625  1.000000      0.000923    0.000859    0.000814   \n",
       "advertiserId        0.277521  0.000923      1.000000    0.495009    0.148868   \n",
       "campaignId          0.025998  0.000859      0.495009    1.000000    0.250865   \n",
       "creativeId          0.307026  0.000814      0.148868    0.250865    1.000000   \n",
       "creativeSize       -0.042451  0.001229      0.002583    0.000205   -0.024255   \n",
       "adCategoryId        0.098115 -0.000439     -0.016838   -0.141054    0.063013   \n",
       "productId          -0.048243 -0.001385     -0.092087   -0.103099   -0.123772   \n",
       "productType        -0.151655 -0.001868     -0.372419   -0.207539   -0.239727   \n",
       "LBS                -0.002409  0.001602     -0.005430   -0.002588    0.000666   \n",
       "age                -0.019990  0.001367      0.109812    0.073543    0.064559   \n",
       "carrier             0.037981 -0.000566      0.067534   -0.026287    0.069220   \n",
       "consumptionAbility  0.042987 -0.001757      0.043639   -0.027418    0.049846   \n",
       "education           0.025435  0.000724      0.065102   -0.014804    0.098397   \n",
       "gender              0.032694 -0.000494     -0.101659    0.019379    0.072524   \n",
       "house               0.022604 -0.002435      0.011875   -0.039340    0.047808   \n",
       "\n",
       "                    creativeSize  adCategoryId  productId  productType  \\\n",
       "aid                    -0.042451      0.098115  -0.048243    -0.151655   \n",
       "uid                     0.001229     -0.000439  -0.001385    -0.001868   \n",
       "advertiserId            0.002583     -0.016838  -0.092087    -0.372419   \n",
       "campaignId              0.000205     -0.141054  -0.103099    -0.207539   \n",
       "creativeId             -0.024255      0.063013  -0.123772    -0.239727   \n",
       "creativeSize            1.000000      0.000851  -0.162645    -0.262257   \n",
       "adCategoryId            0.000851      1.000000  -0.151390    -0.217472   \n",
       "productId              -0.162645     -0.151390   1.000000     0.541548   \n",
       "productType            -0.262257     -0.217472   0.541548     1.000000   \n",
       "LBS                    -0.011043      0.000948   0.014798     0.012515   \n",
       "age                     0.052184     -0.058483   0.010298    -0.009832   \n",
       "carrier                 0.007738      0.017384  -0.013582    -0.067925   \n",
       "consumptionAbility     -0.064333      0.009403  -0.015500    -0.051513   \n",
       "education               0.065918      0.007058  -0.046713    -0.085181   \n",
       "gender                 -0.156163      0.127489  -0.300030    -0.169322   \n",
       "house                   0.052784      0.013235  -0.026255    -0.066993   \n",
       "\n",
       "                         LBS       age   carrier  consumptionAbility  \\\n",
       "aid                -0.002409 -0.019990  0.037981            0.042987   \n",
       "uid                 0.001602  0.001367 -0.000566           -0.001757   \n",
       "advertiserId       -0.005430  0.109812  0.067534            0.043639   \n",
       "campaignId         -0.002588  0.073543 -0.026287           -0.027418   \n",
       "creativeId          0.000666  0.064559  0.069220            0.049846   \n",
       "creativeSize       -0.011043  0.052184  0.007738           -0.064333   \n",
       "adCategoryId        0.000948 -0.058483  0.017384            0.009403   \n",
       "productId           0.014798  0.010298 -0.013582           -0.015500   \n",
       "productType         0.012515 -0.009832 -0.067925           -0.051513   \n",
       "LBS                 1.000000 -0.001868  0.001171            0.018391   \n",
       "age                -0.001868  1.000000 -0.045805           -0.066836   \n",
       "carrier             0.001171 -0.045805  1.000000            0.193905   \n",
       "consumptionAbility  0.018391 -0.066836  0.193905            1.000000   \n",
       "education           0.001120  0.115635  0.176432            0.095311   \n",
       "gender             -0.001541 -0.069608  0.020940            0.107206   \n",
       "house              -0.028529 -0.087757  0.202012            0.069062   \n",
       "\n",
       "                    education    gender     house  \n",
       "aid                  0.025435  0.032694  0.022604  \n",
       "uid                  0.000724 -0.000494 -0.002435  \n",
       "advertiserId         0.065102 -0.101659  0.011875  \n",
       "campaignId          -0.014804  0.019379 -0.039340  \n",
       "creativeId           0.098397  0.072524  0.047808  \n",
       "creativeSize         0.065918 -0.156163  0.052784  \n",
       "adCategoryId         0.007058  0.127489  0.013235  \n",
       "productId           -0.046713 -0.300030 -0.026255  \n",
       "productType         -0.085181 -0.169322 -0.066993  \n",
       "LBS                  0.001120 -0.001541 -0.028529  \n",
       "age                  0.115635 -0.069608 -0.087757  \n",
       "carrier              0.176432  0.020940  0.202012  \n",
       "consumptionAbility   0.095311  0.107206  0.069062  \n",
       "education            1.000000 -0.000980  0.155883  \n",
       "gender              -0.000980  1.000000 -0.060132  \n",
       "house                0.155883 -0.060132  1.000000  "
      ]
     },
     "execution_count": 71,
     "metadata": {},
     "output_type": "execute_result"
    }
   ],
   "source": [
    "corr = X.corr()\n",
    "corr"
   ]
  },
  {
   "cell_type": "code",
   "execution_count": 72,
   "metadata": {},
   "outputs": [
    {
     "data": {
      "image/png": "[encoded data removed]",
      "text/plain": [
       "<matplotlib.figure.Figure at 0x76f79048>"
      ]
     },
     "metadata": {},
     "output_type": "display_data"
    }
   ],
   "source": [
    "f, ax = plt.subplots(figsize=(10, 10)) \n",
    "cmap = sns.diverging_palette(220, 10, as_cmap=True) \n",
    "sns.heatmap(corr, cmap=cmap, vmax=1.0, square=True, xticklabels=2, yticklabels=2, linewidths=.3, cbar_kws={\"shrink\": .5}, ax=ax) \n",
    "plt.show()"
   ]
  },
  {
   "cell_type": "markdown",
   "metadata": {},
   "source": [
    "由于几乎所有数据都是类别型数据，所以常规方法很难分析出特征之间的相互关系"
   ]
  },
  {
   "cell_type": "code",
   "execution_count": null,
   "metadata": {},
   "outputs": [],
   "source": []
  }
 ],
 "metadata": {
  "kernelspec": {
   "display_name": "Python 3",
   "language": "python",
   "name": "python3"
  },
  "language_info": {
   "codemirror_mode": {
    "name": "ipython",
    "version": 3
   },
   "file_extension": ".py",
   "mimetype": "text/x-python",
   "name": "python",
   "nbconvert_exporter": "python",
   "pygments_lexer": "ipython3",
   "version": "3.6.4"
  }
 },
 "nbformat": 4,
 "nbformat_minor": 2
}
